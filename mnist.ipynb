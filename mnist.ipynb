{
 "cells": [
  {
   "cell_type": "code",
   "execution_count": 1,
   "id": "8a637c69-9071-4012-ac1e-93037548b3e9",
   "metadata": {},
   "outputs": [
    {
     "name": "stderr",
     "output_type": "stream",
     "text": [
      "2023-05-21 03:38:18.127052: E tensorflow/stream_executor/cuda/cuda_blas.cc:2981] Unable to register cuBLAS factory: Attempting to register factory for plugin cuBLAS when one has already been registered\n"
     ]
    },
    {
     "name": "stdout",
     "output_type": "stream",
     "text": [
      "2.10.0\n",
      "[PhysicalDevice(name='/physical_device:CPU:0', device_type='CPU'), PhysicalDevice(name='/physical_device:GPU:0', device_type='GPU')]\n"
     ]
    }
   ],
   "source": [
    "import os\n",
    "os.environ['TF_CPP_MIN_LOG_LEVEL'] = '2'\n",
    "\n",
    "from pso_tf import PSO\n",
    "\n",
    "import numpy as np\n",
    "\n",
    "import tensorflow as tf\n",
    "from tensorflow import keras\n",
    "tf.random.set_seed(777)  # for reproducibility\n",
    "\n",
    "from keras.datasets import mnist\n",
    "from keras.models import Sequential\n",
    "from keras.layers import Dense, Dropout, Flatten\n",
    "from keras.layers import Conv2D, MaxPooling2D\n",
    "from keras import backend as K\n",
    "\n",
    "import matplotlib.pyplot as plt\n",
    "from datetime import date\n",
    "\n",
    "print(tf.__version__)\n",
    "print(tf.config.list_physical_devices())\n",
    "\n",
    "def get_data():\n",
    "    (x_train, y_train), (x_test, y_test) = mnist.load_data()\n",
    "\n",
    "    x_train, x_test = x_train / 255.0, x_test / 255.0\n",
    "    x_train = x_train.reshape((60000, 28 ,28, 1))\n",
    "    x_test = x_test.reshape((10000, 28 ,28, 1))\n",
    "\n",
    "    print(f\"x_train : {x_train[0].shape} | y_train : {y_train[0].shape}\")\n",
    "    print(f\"x_test : {x_test[0].shape} | y_test : {y_test[0].shape}\")\n",
    "    return x_train, y_train, x_test, y_test\n",
    "\n",
    "def make_model():\n",
    "    model = Sequential()\n",
    "    model.add(Conv2D(32, kernel_size=(5, 5), activation='relu', input_shape=(28,28,1)))\n",
    "    model.add(MaxPooling2D(pool_size=(3, 3)))\n",
    "    model.add(Conv2D(64, kernel_size=(3, 3), activation='relu'))\n",
    "    model.add(MaxPooling2D(pool_size=(2, 2)))\n",
    "    model.add(Dropout(0.25))\n",
    "    model.add(Flatten())\n",
    "    model.add(Dense(128, activation='relu'))\n",
    "    model.add(Dense(10, activation='softmax'))\n",
    "\n",
    "    model.compile(loss='sparse_categorical_crossentropy',optimizer='adam', metrics=['accuracy'])\n",
    "\n",
    "    model.summary()\n",
    "\n",
    "    return model"
   ]
  },
  {
   "cell_type": "code",
   "execution_count": 2,
   "id": "a2d9891d",
   "metadata": {},
   "outputs": [
    {
     "name": "stdout",
     "output_type": "stream",
     "text": [
      "x_train : (28, 28, 1) | y_train : ()\n",
      "x_test : (28, 28, 1) | y_test : ()\n",
      "Model: \"sequential\"\n",
      "_________________________________________________________________\n",
      " Layer (type)                Output Shape              Param #   \n",
      "=================================================================\n",
      " conv2d (Conv2D)             (None, 24, 24, 32)        832       \n",
      "                                                                 \n",
      " max_pooling2d (MaxPooling2D  (None, 8, 8, 32)         0         \n",
      " )                                                               \n",
      "                                                                 \n",
      " conv2d_1 (Conv2D)           (None, 6, 6, 64)          18496     \n",
      "                                                                 \n",
      " max_pooling2d_1 (MaxPooling  (None, 3, 3, 64)         0         \n",
      " 2D)                                                             \n",
      "                                                                 \n",
      " dropout (Dropout)           (None, 3, 3, 64)          0         \n",
      "                                                                 \n",
      " flatten (Flatten)           (None, 576)               0         \n",
      "                                                                 \n",
      " dense (Dense)               (None, 128)               73856     \n",
      "                                                                 \n",
      " dense_1 (Dense)             (None, 10)                1290      \n",
      "                                                                 \n",
      "=================================================================\n",
      "Total params: 94,474\n",
      "Trainable params: 94,474\n",
      "Non-trainable params: 0\n",
      "_________________________________________________________________\n"
     ]
    },
    {
     "name": "stderr",
     "output_type": "stream",
     "text": [
      "/home/pieroot/miniconda3/envs/pso/lib/python3.8/site-packages/keras/optimizers/optimizer_v2/gradient_descent.py:111: UserWarning: The `lr` argument is deprecated, use `learning_rate` instead.\n",
      "  super().__init__(name, **kwargs)\n",
      "init particles position: 100%|██████████| 2/2 [00:00<00:00, 34.52it/s]\n",
      "init velocities: 100%|██████████| 2/2 [00:00<00:00, 1203.19it/s]\n",
      "Iteration 0 / 10: 100%|##########| 2/2 [00:48<00:00, 24.43s/it]\n"
     ]
    },
    {
     "name": "stdout",
     "output_type": "stream",
     "text": [
      "loss : 0.021180160343647003 | acc : 0.9930999875068665\n"
     ]
    },
    {
     "name": "stderr",
     "output_type": "stream",
     "text": [
      "Iteration 1 / 10: 100%|##########| 2/2 [00:46<00:00, 23.46s/it]\n"
     ]
    },
    {
     "name": "stdout",
     "output_type": "stream",
     "text": [
      "loss : 0.029995786026120186 | acc : 0.9927999973297119\n"
     ]
    },
    {
     "name": "stderr",
     "output_type": "stream",
     "text": [
      "Iteration 2 / 10: 100%|##########| 2/2 [00:47<00:00, 23.57s/it]\n"
     ]
    },
    {
     "name": "stdout",
     "output_type": "stream",
     "text": [
      "loss : 0.13020965456962585 | acc : 0.9929999709129333\n"
     ]
    },
    {
     "name": "stderr",
     "output_type": "stream",
     "text": [
      "Iteration 3 / 10: 100%|##########| 2/2 [00:47<00:00, 23.62s/it]\n"
     ]
    },
    {
     "name": "stdout",
     "output_type": "stream",
     "text": [
      "loss : 0.032199352979660034 | acc : 0.9918000102043152\n"
     ]
    },
    {
     "name": "stderr",
     "output_type": "stream",
     "text": [
      "Iteration 4 / 10: 100%|##########| 2/2 [00:47<00:00, 23.66s/it]\n"
     ]
    },
    {
     "name": "stdout",
     "output_type": "stream",
     "text": [
      "loss : 0.025606701150536537 | acc : 0.9925000071525574\n"
     ]
    },
    {
     "name": "stderr",
     "output_type": "stream",
     "text": [
      "Iteration 5 / 10: 100%|##########| 2/2 [00:47<00:00, 23.64s/it]\n"
     ]
    },
    {
     "name": "stdout",
     "output_type": "stream",
     "text": [
      "loss : 0.04198306426405907 | acc : 0.9921000003814697\n"
     ]
    },
    {
     "name": "stderr",
     "output_type": "stream",
     "text": [
      "Iteration 6 / 10: 100%|##########| 2/2 [00:47<00:00, 23.69s/it]\n"
     ]
    },
    {
     "name": "stdout",
     "output_type": "stream",
     "text": [
      "loss : 0.048351287841796875 | acc : 0.9919999837875366\n"
     ]
    },
    {
     "name": "stderr",
     "output_type": "stream",
     "text": [
      "Iteration 7 / 10: 100%|##########| 2/2 [00:47<00:00, 23.73s/it]\n"
     ]
    },
    {
     "name": "stdout",
     "output_type": "stream",
     "text": [
      "loss : 0.0416271910071373 | acc : 0.9890999794006348\n"
     ]
    },
    {
     "name": "stderr",
     "output_type": "stream",
     "text": [
      "Iteration 8 / 10: 100%|##########| 2/2 [00:47<00:00, 23.70s/it]\n"
     ]
    },
    {
     "name": "stdout",
     "output_type": "stream",
     "text": [
      "loss : 0.18129077553749084 | acc : 0.9502000212669373\n"
     ]
    },
    {
     "name": "stderr",
     "output_type": "stream",
     "text": [
      "Iteration 9 / 10: 100%|##########| 2/2 [00:47<00:00, 23.69s/it]\n"
     ]
    },
    {
     "name": "stdout",
     "output_type": "stream",
     "text": [
      "loss : 0.8072962760925293 | acc : 0.7225000262260437\n",
      "313/313 - 0s - loss: 0.0212 - accuracy: 0.9931 - 290ms/epoch - 926us/step\n",
      "Test loss: 0.021180160343647003 / Test accuracy: 0.9930999875068665\n"
     ]
    }
   ],
   "source": [
    "x_train, y_train, x_test, y_test = get_data()\n",
    "model = make_model()\n",
    "\n",
    "loss = keras.losses.MeanSquaredError()\n",
    "optimizer = keras.optimizers.SGD(lr=0.1, momentum=1, decay=1e-05, nesterov=True)\n",
    "\n",
    "pso_m = PSO(model=model, loss_method=loss, optimizer=optimizer, n_particles=2)\n",
    "best_weights, score = pso_m.optimize(x_train, y_train, x_test, y_test, maxiter=10)\n",
    "\n",
    "model.set_weights(best_weights)\n",
    "\n",
    "score = model.evaluate(x_test, y_test, verbose=2)\n",
    "print(f\"Test loss: {score[0]} / Test accuracy: {score[1]}\")\n",
    "\n",
    "day = date.today().strftime(\"%Y-%m-%d\")\n",
    "\n",
    "model.save(f'./model/{day}_mnist.h5')\n"
   ]
  },
  {
   "cell_type": "code",
   "execution_count": 3,
   "id": "1a38f3c1-8291-40d9-838e-4ffbf4578be5",
   "metadata": {},
   "outputs": [
    {
     "name": "stdout",
     "output_type": "stream",
     "text": [
      "313/313 [==============================] - 0s 685us/step\n",
      "틀린 것 갯수 > 69\n"
     ]
    },
    {
     "data": {
      "image/png": "[encoded data removed]",
      "text/plain": [
       "<Figure size 640x480 with 1 Axes>"
      ]
     },
     "metadata": {},
     "output_type": "display_data"
    }
   ],
   "source": [
    "# print(f\"정답 > {y_test}\")\n",
    "predicted_result = model.predict(x_test)\n",
    "predicted_labels = np.argmax(predicted_result, axis=1)\n",
    "not_correct = []\n",
    "for i in range(len(y_test)):\n",
    "    if predicted_labels[i] != y_test[i]:\n",
    "        not_correct.append(i)\n",
    "        # print(f\"추론 > {predicted_labels[i]} | 정답 > {y_test[i]}\")\n",
    "        \n",
    "print(f\"틀린 것 갯수 > {len(not_correct)}\")\n",
    "for i in range(3):\n",
    "    plt.imshow(x_test[not_correct[i]].reshape(28,28), cmap='Greys')\n",
    "plt.show()"
   ]
  },
  {
   "cell_type": "code",
   "execution_count": null,
   "id": "fc2d7044",
   "metadata": {},
   "outputs": [],
   "source": []
  }
 ],
 "metadata": {
  "kernelspec": {
   "display_name": "pso",
   "language": "python",
   "name": "pso"
  },
  "language_info": {
   "codemirror_mode": {
    "name": "ipython",
    "version": 3
   },
   "file_extension": ".py",
   "mimetype": "text/x-python",
   "name": "python",
   "nbconvert_exporter": "python",
   "pygments_lexer": "ipython3",
   "version": "3.8.16"
  },
  "widgets": {
   "application/vnd.jupyter.widget-state+json": {
    "state": {},
    "version_major": 2,
    "version_minor": 0
   }
  }
 },
 "nbformat": 4,
 "nbformat_minor": 5
}
